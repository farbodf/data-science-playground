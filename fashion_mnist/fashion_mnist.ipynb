{
 "cells": [
  {
   "cell_type": "code",
   "execution_count": 1,
   "metadata": {},
   "outputs": [
    {
     "name": "stdout",
     "output_type": "stream",
     "text": [
      "rm: cannot remove 'data/models': No such file or directory\n",
      "rm: cannot remove 'data/tmp': No such file or directory\n"
     ]
    }
   ],
   "source": [
    "!rm -r data/models\n",
    "!rm -r data/tmp"
   ]
  },
  {
   "cell_type": "code",
   "execution_count": 2,
   "metadata": {},
   "outputs": [],
   "source": [
    "# run the following to install the fastai package if it's not installed\n",
    "# !pip install fastai"
   ]
  },
  {
   "cell_type": "code",
   "execution_count": 3,
   "metadata": {},
   "outputs": [],
   "source": [
    "# kaggle API is very handy for downloading datasets\n",
    "# I recommend installing it\n",
    "# !pip install kaggle"
   ]
  },
  {
   "cell_type": "code",
   "execution_count": 4,
   "metadata": {},
   "outputs": [],
   "source": [
    "# import os\n",
    "# import json\n",
    "# Replace the following with the contents of your kaggle.json\n",
    "# data = ...\n",
    "# with open(\"/home/paperspace/.kaggle/kaggle.json\", 'w') as fh:\n",
    "#     json.dump(data, fh)"
   ]
  },
  {
   "cell_type": "code",
   "execution_count": 5,
   "metadata": {},
   "outputs": [],
   "source": [
    "# !mkdir data\n",
    "# !kaggle datasets download -d zalando-research/fashionmnist -p data"
   ]
  },
  {
   "cell_type": "code",
   "execution_count": 6,
   "metadata": {},
   "outputs": [],
   "source": [
    "# Put these at the top of every notebook, to get automatic reloading and inline plotting\n",
    "%reload_ext autoreload\n",
    "%autoreload 2\n",
    "%matplotlib inline\n",
    "\n",
    "# This file contains all the main external libs we'll use\n",
    "from fastai.imports import *\n",
    "\n",
    "from fastai.transforms import *\n",
    "from fastai.conv_learner import *\n",
    "from fastai.model import *\n",
    "from fastai.dataset import *\n",
    "from fastai.sgdr import *\n",
    "from fastai.plots import *"
   ]
  },
  {
   "cell_type": "code",
   "execution_count": 7,
   "metadata": {},
   "outputs": [],
   "source": [
    "import pandas as pd\n",
    "train = pd.read_csv('data/fashion-mnist_train.csv')\n",
    "train_X = train.drop('label', axis=1)\n",
    "train_y = train['label']\n",
    "test = pd.read_csv('data/fashion-mnist_test.csv')\n",
    "test_X = test.drop('label', axis=1)\n",
    "test_y = test['label']\n",
    "\n",
    "train_X = train_X.apply(lambda x: x/255)\n",
    "test_X = test_X.apply(lambda x: x/255)"
   ]
  },
  {
   "cell_type": "code",
   "execution_count": 8,
   "metadata": {},
   "outputs": [],
   "source": [
    "from sklearn.model_selection import train_test_split\n",
    "from sklearn.metrics import confusion_matrix\n",
    "import itertools\n",
    "\n",
    "random_seed = 144\n",
    "train_X, validation_X, train_y, validation_y = train_test_split(train_X,\n",
    "                                                                train_y.values,\n",
    "                                                                test_size = 0.15,\n",
    "                                                                random_state=random_seed)"
   ]
  },
  {
   "cell_type": "code",
   "execution_count": 9,
   "metadata": {},
   "outputs": [],
   "source": [
    "size=28\n",
    "train_X = train_X.values.reshape(-1,size,size,1)\n",
    "validation_X = validation_X.values.reshape(-1,size,size,1)\n",
    "test_X = test_X.values.reshape(-1,size,size,1)"
   ]
  },
  {
   "cell_type": "code",
   "execution_count": 10,
   "metadata": {},
   "outputs": [],
   "source": [
    "train_X = np.concatenate([train_X]*3, axis=-1)\n",
    "validation_X = np.concatenate([validation_X]*3, axis=-1)\n",
    "test_X = np.concatenate([test_X]*3, axis=-1)"
   ]
  },
  {
   "cell_type": "code",
   "execution_count": 11,
   "metadata": {},
   "outputs": [],
   "source": [
    "size=28\n",
    "arch = resnet34\n",
    "data = ImageClassifierData.from_arrays(\n",
    "    \"data/\", \n",
    "    trn=tuple([train_X, train_y]),\n",
    "    val=tuple([validation_X, validation_y]),\n",
    "    tfms=tfms_from_model(arch, size),\n",
    "    classes=set(test_y),\n",
    "    bs=32, \n",
    "    test=test_X\n",
    ")"
   ]
  },
  {
   "cell_type": "code",
   "execution_count": 12,
   "metadata": {},
   "outputs": [
    {
     "name": "stdout",
     "output_type": "stream",
     "text": [
      "100%|██████████| 1594/1594 [00:25<00:00, 62.21it/s]\n",
      "100%|██████████| 282/282 [00:04<00:00, 63.76it/s]\n",
      "100%|██████████| 313/313 [00:04<00:00, 66.74it/s]\n"
     ]
    }
   ],
   "source": [
    "learn = ConvLearner.pretrained(arch, data, precompute=True)"
   ]
  },
  {
   "cell_type": "code",
   "execution_count": 13,
   "metadata": {},
   "outputs": [
    {
     "data": {
      "application/vnd.jupyter.widget-view+json": {
       "model_id": "69561e8787ff46ffac979fe07d5c4636",
       "version_major": 2,
       "version_minor": 0
      },
      "text/plain": [
       "HBox(children=(IntProgress(value=0, description='Epoch', max=10), HTML(value='')))"
      ]
     },
     "metadata": {},
     "output_type": "display_data"
    },
    {
     "name": "stdout",
     "output_type": "stream",
     "text": [
      "epoch      trn_loss   val_loss   accuracy                       \n",
      "    0      0.599624   0.470166   0.831556  \n",
      "    1      0.589681   0.441372   0.841111                       \n",
      "    2      0.532113   0.429178   0.849333                       \n",
      "    3      0.511428   0.402175   0.852889                       \n",
      "    4      0.505364   0.390975   0.863222                       \n",
      "    5      0.453481   0.390759   0.860778                       \n",
      "    6      0.485023   0.3863     0.865444                       \n",
      "    7      0.447137   0.382417   0.862                          \n",
      "    8      0.479483   0.383913   0.860889                       \n",
      "    9      0.484126   0.385663   0.864333                       \n",
      "\n"
     ]
    },
    {
     "data": {
      "text/plain": [
       "[array([0.38566]), 0.8643333333333333]"
      ]
     },
     "execution_count": 13,
     "metadata": {},
     "output_type": "execute_result"
    }
   ],
   "source": [
    "learn.fit(0.01, 10)"
   ]
  },
  {
   "cell_type": "code",
   "execution_count": 14,
   "metadata": {},
   "outputs": [
    {
     "data": {
      "application/vnd.jupyter.widget-view+json": {
       "model_id": "5396a2bcb0d0467a867b9c3f96a8c7ca",
       "version_major": 2,
       "version_minor": 0
      },
      "text/plain": [
       "HBox(children=(IntProgress(value=0, description='Epoch', max=1), HTML(value='')))"
      ]
     },
     "metadata": {},
     "output_type": "display_data"
    },
    {
     "name": "stdout",
     "output_type": "stream",
     "text": [
      " 77%|███████▋  | 1221/1594 [00:10<00:03, 115.75it/s, loss=3.34]"
     ]
    }
   ],
   "source": [
    "learn = ConvLearner.pretrained(arch, data, precompute=True)\n",
    "lrf=learn.lr_find()"
   ]
  },
  {
   "cell_type": "code",
   "execution_count": 15,
   "metadata": {},
   "outputs": [
    {
     "data": {
      "image/png": "[encoded data removed]",
      "text/plain": [
       "<Figure size 432x288 with 1 Axes>"
      ]
     },
     "metadata": {},
     "output_type": "display_data"
    }
   ],
   "source": [
    "learn.sched.plot_lr()"
   ]
  },
  {
   "cell_type": "code",
   "execution_count": 16,
   "metadata": {},
   "outputs": [
    {
     "data": {
      "image/png": "[encoded data removed]",
      "text/plain": [
       "<Figure size 432x288 with 1 Axes>"
      ]
     },
     "metadata": {},
     "output_type": "display_data"
    }
   ],
   "source": [
    "learn.sched.plot()"
   ]
  },
  {
   "cell_type": "code",
   "execution_count": 17,
   "metadata": {},
   "outputs": [],
   "source": [
    "tfms = tfms_from_model(resnet34, size, aug_tfms=transforms_side_on, max_zoom=1.1)"
   ]
  },
  {
   "cell_type": "code",
   "execution_count": 18,
   "metadata": {},
   "outputs": [],
   "source": [
    "size = 28\n",
    "arch = resnet34\n",
    "data = ImageClassifierData.from_arrays(\n",
    "    \"data/fashionmnist/\", \n",
    "    trn=tuple([train_X, train_y]),\n",
    "    val=tuple([validation_X, validation_y]),\n",
    "    tfms=tfms,\n",
    "    classes=set(test_y),\n",
    "    bs=32, \n",
    "    test=test_X\n",
    ")"
   ]
  },
  {
   "cell_type": "code",
   "execution_count": 19,
   "metadata": {},
   "outputs": [
    {
     "name": "stdout",
     "output_type": "stream",
     "text": [
      "100%|██████████| 1594/1594 [00:25<00:00, 62.91it/s]\n",
      "100%|██████████| 282/282 [00:04<00:00, 65.63it/s]\n"
     ]
    },
    {
     "data": {
      "application/vnd.jupyter.widget-view+json": {
       "model_id": "47f1055ef7e74426b2cc1916cfa89352",
       "version_major": 2,
       "version_minor": 0
      },
      "text/plain": [
       "HBox(children=(IntProgress(value=0, description='Epoch', max=10), HTML(value='')))"
      ]
     },
     "metadata": {},
     "output_type": "display_data"
    },
    {
     "name": "stdout",
     "output_type": "stream",
     "text": [
      "epoch      trn_loss   val_loss   accuracy                       \n",
      "    0      0.580512   0.465126   0.837556  \n",
      "    1      0.497329   0.463306   0.839889                       \n",
      "    2      0.555241   0.414251   0.848778                       \n",
      "    3      0.526912   0.412707   0.852667                       \n",
      "    4      0.491067   0.395959   0.858667                       \n",
      "    5      0.457398   0.386646   0.86                           \n",
      "    6      0.431058   0.38061    0.863222                       \n",
      "    7      0.45478    0.380842   0.862222                       \n",
      "    8      0.440562   0.376794   0.862556                       \n",
      "    9      0.456159   0.369852   0.867333                       \n"
     ]
    },
    {
     "data": {
      "text/plain": [
       "[array([0.36985]), 0.8673333333333333]"
      ]
     },
     "execution_count": 19,
     "metadata": {},
     "output_type": "execute_result"
    }
   ],
   "source": [
    "learn = ConvLearner.pretrained(arch, data, precompute=True)\n",
    "learn.fit(1e-2, 10)"
   ]
  },
  {
   "cell_type": "code",
   "execution_count": 20,
   "metadata": {},
   "outputs": [
    {
     "data": {
      "application/vnd.jupyter.widget-view+json": {
       "model_id": "447d525d4f064ecab33d149d64e433b2",
       "version_major": 2,
       "version_minor": 0
      },
      "text/plain": [
       "HBox(children=(IntProgress(value=0, description='Epoch', max=3), HTML(value='')))"
      ]
     },
     "metadata": {},
     "output_type": "display_data"
    },
    {
     "name": "stdout",
     "output_type": "stream",
     "text": [
      "epoch      trn_loss   val_loss   accuracy                      \n",
      "    0      0.524136   0.382215   0.861222  \n",
      "    1      0.532705   0.377753   0.864111                      \n",
      "    2      0.512376   0.380378   0.861556                      \n"
     ]
    },
    {
     "data": {
      "text/plain": [
       "[array([0.38038]), 0.8615555555555555]"
      ]
     },
     "execution_count": 20,
     "metadata": {},
     "output_type": "execute_result"
    }
   ],
   "source": [
    "learn.precompute=False\n",
    "learn.fit(1e-2, 3, cycle_len=1)"
   ]
  },
  {
   "cell_type": "code",
   "execution_count": 21,
   "metadata": {},
   "outputs": [
    {
     "data": {
      "application/vnd.jupyter.widget-view+json": {
       "model_id": "6002b8dfbf7c498786d97a8b63dc6b90",
       "version_major": 2,
       "version_minor": 0
      },
      "text/plain": [
       "HBox(children=(IntProgress(value=0, description='Epoch', max=13), HTML(value='')))"
      ]
     },
     "metadata": {},
     "output_type": "display_data"
    },
    {
     "name": "stdout",
     "output_type": "stream",
     "text": [
      "epoch      trn_loss   val_loss   accuracy                      \n",
      "    0      0.490469   0.371639   0.865111  \n",
      "    1      0.399461   0.311133   0.886333                      \n",
      "    2      0.330813   0.282002   0.895778                      \n",
      "    3      0.318453   0.266452   0.902333                      \n",
      "    4      0.348005   0.268303   0.901                         \n",
      "    5      0.31447    0.252757   0.906333                      \n",
      "    6      0.26912    0.229786   0.916                         \n",
      "    7      0.268277   0.226809   0.916667                      \n",
      "    8      0.239059   0.223856   0.920778                      \n",
      "    9      0.238553   0.215091   0.920778                      \n",
      "    10     0.23491    0.214822   0.922444                      \n",
      "    11     0.214462   0.212613   0.922889                      \n",
      "    12     0.224845   0.211652   0.922667                      \n"
     ]
    },
    {
     "data": {
      "text/plain": [
       "[array([0.21165]), 0.9226666666666666]"
      ]
     },
     "execution_count": 21,
     "metadata": {},
     "output_type": "execute_result"
    }
   ],
   "source": [
    "learn.save('224_lastlayer')\n",
    "learn.unfreeze()\n",
    "lr=np.array([1e-4,1e-3,1e-2])\n",
    "learn.fit(lr, 3, cycle_len=1, cycle_mult=3)"
   ]
  },
  {
   "cell_type": "code",
   "execution_count": 22,
   "metadata": {},
   "outputs": [
    {
     "data": {
      "image/png": "[encoded data removed]",
      "text/plain": [
       "<Figure size 432x288 with 1 Axes>"
      ]
     },
     "metadata": {},
     "output_type": "display_data"
    }
   ],
   "source": [
    "learn.sched.plot_lr()\n",
    "learn.save('224_all')\n",
    "learn.load('224_all')"
   ]
  },
  {
   "cell_type": "code",
   "execution_count": null,
   "metadata": {},
   "outputs": [],
   "source": []
  }
 ],
 "metadata": {
  "kernelspec": {
   "display_name": "Python 3",
   "language": "python",
   "name": "python3"
  },
  "language_info": {
   "codemirror_mode": {
    "name": "ipython",
    "version": 3
   },
   "file_extension": ".py",
   "mimetype": "text/x-python",
   "name": "python",
   "nbconvert_exporter": "python",
   "pygments_lexer": "ipython3",
   "version": "3.6.5"
  }
 },
 "nbformat": 4,
 "nbformat_minor": 2
}
