{
 "cells": [
  {
   "cell_type": "code",
   "execution_count": 1,
   "metadata": {},
   "outputs": [],
   "source": [
    "# run the following to install the fastai package if it's not installed\n",
    "# !pip install fastai"
   ]
  },
  {
   "cell_type": "code",
   "execution_count": 2,
   "metadata": {},
   "outputs": [],
   "source": [
    "# kaggle API is very handy for downloading datasets\n",
    "# I recommend installing it\n",
    "# !pip install kaggle"
   ]
  },
  {
   "cell_type": "code",
   "execution_count": 3,
   "metadata": {},
   "outputs": [],
   "source": [
    "# import os\n",
    "# import json\n",
    "# Replace the following with the contents of your kaggle.json\n",
    "# data = ...\n",
    "# with open(\"/home/paperspace/.kaggle/kaggle.json\", 'w') as fh:\n",
    "#     json.dump(data, fh)"
   ]
  },
  {
   "cell_type": "code",
   "execution_count": 4,
   "metadata": {},
   "outputs": [],
   "source": [
    "# !mkdir data\n",
    "# !kaggle datasets download -d zalando-research/fashionmnist -p data"
   ]
  },
  {
   "cell_type": "code",
   "execution_count": 5,
   "metadata": {},
   "outputs": [],
   "source": [
    "# Put these at the top of every notebook, to get automatic reloading and inline plotting\n",
    "%reload_ext autoreload\n",
    "%autoreload 2\n",
    "%matplotlib inline\n",
    "\n",
    "# This file contains all the main external libs we'll use\n",
    "from fastai.imports import *\n",
    "\n",
    "from fastai.transforms import *\n",
    "from fastai.conv_learner import *\n",
    "from fastai.model import *\n",
    "from fastai.dataset import *\n",
    "from fastai.sgdr import *\n",
    "from fastai.plots import *"
   ]
  },
  {
   "cell_type": "code",
   "execution_count": 6,
   "metadata": {},
   "outputs": [],
   "source": [
    "import pandas as pd\n",
    "train = pd.read_csv('data/fashion-mnist_train.csv')\n",
    "train_X = train.drop('label', axis=1)\n",
    "train_y = train['label']\n",
    "test = pd.read_csv('data/fashion-mnist_test.csv')\n",
    "test_X = test.drop('label', axis=1)\n",
    "test_y = test['label']\n",
    "\n",
    "train_X = train_X.apply(lambda x: x/255)\n",
    "test_X = test_X.apply(lambda x: x/255)"
   ]
  },
  {
   "cell_type": "code",
   "execution_count": 7,
   "metadata": {},
   "outputs": [],
   "source": [
    "from sklearn.model_selection import train_test_split\n",
    "from sklearn.metrics import confusion_matrix\n",
    "import itertools\n",
    "\n",
    "random_seed = 144\n",
    "train_X, validation_X, train_y, validation_y = train_test_split(train_X,\n",
    "                                                                train_y.values,\n",
    "                                                                test_size = 0.2,\n",
    "                                                                random_state=random_seed)"
   ]
  },
  {
   "cell_type": "code",
   "execution_count": 8,
   "metadata": {},
   "outputs": [],
   "source": [
    "size=28\n",
    "train_X = train_X.values.reshape(-1,size,size,1)\n",
    "validation_X = validation_X.values.reshape(-1,size,size,1)\n",
    "test_X = test_X.values.reshape(-1,size,size,1)"
   ]
  },
  {
   "cell_type": "code",
   "execution_count": 9,
   "metadata": {},
   "outputs": [],
   "source": [
    "train_X = np.concatenate([train_X]*3, axis=-1)\n",
    "validation_X = np.concatenate([validation_X]*3, axis=-1)\n",
    "test_X = np.concatenate([test_X]*3, axis=-1)"
   ]
  },
  {
   "cell_type": "code",
   "execution_count": 10,
   "metadata": {},
   "outputs": [],
   "source": [
    "size=28\n",
    "arch = resnet34\n",
    "data = ImageClassifierData.from_arrays(\n",
    "    \"data/\", \n",
    "    trn=tuple([train_X, train_y]),\n",
    "    val=tuple([validation_X, validation_y]),\n",
    "    tfms=tfms_from_model(arch, size),\n",
    "    classes=set(test_y),\n",
    "    bs=32, \n",
    "    test=test_X\n",
    ")"
   ]
  },
  {
   "cell_type": "code",
   "execution_count": 11,
   "metadata": {},
   "outputs": [
    {
     "name": "stdout",
     "output_type": "stream",
     "text": [
      "100%|██████████| 1500/1500 [00:27<00:00, 54.29it/s]\n",
      "100%|██████████| 375/375 [00:07<00:00, 50.60it/s]\n",
      "100%|██████████| 313/313 [00:05<00:00, 59.56it/s]\n"
     ]
    }
   ],
   "source": [
    "learn = ConvLearner.pretrained(arch, data, precompute=True)"
   ]
  },
  {
   "cell_type": "code",
   "execution_count": 12,
   "metadata": {},
   "outputs": [
    {
     "data": {
      "application/vnd.jupyter.widget-view+json": {
       "model_id": "6809fa50dcef4105803e9d4a88c6caf4",
       "version_major": 2,
       "version_minor": 0
      },
      "text/plain": [
       "HBox(children=(IntProgress(value=0, description='Epoch', max=10), HTML(value='')))"
      ]
     },
     "metadata": {},
     "output_type": "display_data"
    },
    {
     "name": "stdout",
     "output_type": "stream",
     "text": [
      "epoch      trn_loss   val_loss   accuracy                      \n",
      "    0      0.609987   0.461993   0.83175   \n",
      "    1      0.550939   0.439352   0.84275                       \n",
      "    2      0.521728   0.439384   0.843833                      \n",
      "    3      0.511487   0.418669   0.852083                      \n",
      "    4      0.488329   0.414663   0.848083                       \n",
      "    5      0.501611   0.399979   0.857583                      \n",
      "    6      0.459928   0.402224   0.859167                       \n",
      "    7      0.46947    0.389662   0.859833                       \n",
      "    8      0.448744   0.383187   0.859                          \n",
      "    9      0.413797   0.386909   0.8625                         \n",
      "\n"
     ]
    },
    {
     "data": {
      "text/plain": [
       "[array([0.38691]), 0.8625]"
      ]
     },
     "execution_count": 12,
     "metadata": {},
     "output_type": "execute_result"
    }
   ],
   "source": [
    "learn.fit(0.01, 10)"
   ]
  },
  {
   "cell_type": "code",
   "execution_count": null,
   "metadata": {},
   "outputs": [],
   "source": []
  }
 ],
 "metadata": {
  "kernelspec": {
   "display_name": "Python 3",
   "language": "python",
   "name": "python3"
  },
  "language_info": {
   "codemirror_mode": {
    "name": "ipython",
    "version": 3
   },
   "file_extension": ".py",
   "mimetype": "text/x-python",
   "name": "python",
   "nbconvert_exporter": "python",
   "pygments_lexer": "ipython3",
   "version": "3.6.5"
  }
 },
 "nbformat": 4,
 "nbformat_minor": 2
}
